{
 "cells": [
  {
   "cell_type": "code",
   "execution_count": 1,
   "metadata": {},
   "outputs": [
    {
     "ename": "ImportError",
     "evalue": "cannot import name 'NcbipsiblastCommandline' from 'Bio.Align.Applications' (/Users/ahora/anaconda3/lib/python3.10/site-packages/Bio/Align/Applications/__init__.py)",
     "output_type": "error",
     "traceback": [
      "\u001b[0;31m---------------------------------------------------------------------------\u001b[0m",
      "\u001b[0;31mImportError\u001b[0m                               Traceback (most recent call last)",
      "Cell \u001b[0;32mIn[1], line 4\u001b[0m\n\u001b[1;32m      2\u001b[0m \u001b[39mfrom\u001b[39;00m \u001b[39mBio\u001b[39;00m\u001b[39m.\u001b[39;00m\u001b[39mBlast\u001b[39;00m \u001b[39mimport\u001b[39;00m NCBIWWW\n\u001b[1;32m      3\u001b[0m \u001b[39mfrom\u001b[39;00m \u001b[39mBio\u001b[39;00m\u001b[39m.\u001b[39;00m\u001b[39mBlast\u001b[39;00m \u001b[39mimport\u001b[39;00m NCBIXML\n\u001b[0;32m----> 4\u001b[0m \u001b[39mfrom\u001b[39;00m \u001b[39mBio\u001b[39;00m\u001b[39m.\u001b[39;00m\u001b[39mAlign\u001b[39;00m\u001b[39m.\u001b[39;00m\u001b[39mApplications\u001b[39;00m \u001b[39mimport\u001b[39;00m NcbipsiblastCommandline\n\u001b[1;32m      6\u001b[0m \u001b[39m# Define the path to the PSI-BLAST executable\u001b[39;00m\n\u001b[1;32m      7\u001b[0m psiblast_cline \u001b[39m=\u001b[39m NcbipsiblastCommandline(cmd\u001b[39m=\u001b[39m\u001b[39m'\u001b[39m\u001b[39mpsiblast\u001b[39m\u001b[39m'\u001b[39m)\n",
      "\u001b[0;31mImportError\u001b[0m: cannot import name 'NcbipsiblastCommandline' from 'Bio.Align.Applications' (/Users/ahora/anaconda3/lib/python3.10/site-packages/Bio/Align/Applications/__init__.py)"
     ]
    }
   ],
   "source": [
    "from Bio import SeqIO\n",
    "from Bio.Blast import NCBIWWW\n",
    "from Bio.Blast import NCBIXML\n",
    "from Bio import SearchIO\n",
    "\n",
    "def calculate_pssm(fasta_file):\n",
    "    record = SeqIO.read(fasta_file, format=\"fasta\")\n",
    "\n",
    "    # Run BLAST and parse the result\n",
    "    result_handle = NCBIWWW.qblast(\"blastp\", \"pdb\", record.format(\"fasta\"))\n",
    "    blast_record = NCBIXML.read(result_handle)\n",
    "\n",
    "    # Use the first (best) alignment\n",
    "    alignment = blast_record.alignments[0]\n",
    "    hsp = alignment.hsps[0]\n",
    "\n",
    "    # Calculate the PSSM\n",
    "    pssm = hsp.pssm\n",
    "\n",
    "    return pssm\n",
    "\n",
    "fasta_file = \"sequnce.fasta\"\n",
    "pssm = calculate_pssm(fasta_file)\n",
    "\n",
    "# print the PSSM matrix\n",
    "for row in pssm:\n",
    "    print(row)\n"
   ]
  },
  {
   "cell_type": "code",
   "execution_count": null,
   "metadata": {},
   "outputs": [],
   "source": []
  }
 ],
 "metadata": {
  "kernelspec": {
   "display_name": "base",
   "language": "python",
   "name": "python3"
  },
  "language_info": {
   "codemirror_mode": {
    "name": "ipython",
    "version": 3
   },
   "file_extension": ".py",
   "mimetype": "text/x-python",
   "name": "python",
   "nbconvert_exporter": "python",
   "pygments_lexer": "ipython3",
   "version": "3.10.12"
  },
  "orig_nbformat": 4
 },
 "nbformat": 4,
 "nbformat_minor": 2
}

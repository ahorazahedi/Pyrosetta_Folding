{
 "cells": [
  {
   "cell_type": "code",
   "execution_count": null,
   "metadata": {},
   "outputs": [],
   "source": [
    "from Bio.PDB import PDBParser, PPBuilder\n",
    "import nglview as nv\n",
    "\n",
    "# Load structure\n",
    "parser = PDBParser()\n",
    "structure = parser.get_structure('Your_protein', 'test.pdb')\n",
    "\n",
    "# Get chain A\n",
    "chain_A = structure[0]['A']\n",
    "\n",
    "# Extract sequence\n",
    "ppb = PPBuilder()\n",
    "sequence = \"\"\n",
    "for pp in ppb.build_peptides(chain_A):\n",
    "    sequence += str(pp.get_sequence())\n",
    "\n",
    "print(sequence)"
   ]
  },
  {
   "cell_type": "code",
   "execution_count": null,
   "metadata": {},
   "outputs": [],
   "source": [
    "# Show A Chain structure\n",
    "view = nv.show_biopython(structure)\n",
    "view"
   ]
  },
  {
   "cell_type": "code",
   "execution_count": null,
   "metadata": {},
   "outputs": [],
   "source": [
    "# Show Whole structure\n",
    "view = nv.show_biopython(chain_A)\n",
    "view"
   ]
  },
  {
   "cell_type": "code",
   "execution_count": null,
   "metadata": {},
   "outputs": [],
   "source": [
    "from Bio.PDB import *\n",
    "import numpy as np\n",
    "\n",
    "# Initialize parser\n",
    "parser = PDBParser()\n",
    "\n",
    "# Load structure from file\n",
    "structure = parser.get_structure(\"Your_protein\", \"test.pdb\")\n",
    "\n",
    "# Get chain A\n",
    "chain_A = structure[0]['A']\n",
    "\n",
    "# Filter out only alpha carbon atoms\n",
    "alpha_carbons = [atom for residue in chain_A for atom in residue if atom.get_id() == \"CA\"]\n",
    "\n",
    "# Define function to calculate distance\n",
    "def calculate_distance(atom1, atom2):\n",
    "    diff_vector  = atom2.coord - atom1.coord\n",
    "    return np.sqrt(np.sum(diff_vector * diff_vector))\n",
    "\n",
    "# Create distance matrix\n",
    "num_atoms = len(alpha_carbons)\n",
    "distance_matrix = np.zeros((num_atoms, num_atoms))\n",
    "\n",
    "for i in range(num_atoms):\n",
    "    for j in range(num_atoms):\n",
    "        distance_matrix[i, j] = calculate_distance(alpha_carbons[i], alpha_carbons[j])\n",
    "\n",
    "# Save distance matrix to a csv file\n",
    "np.savetxt(\"distance_matrix.csv\", distance_matrix, delimiter=\",\")\n"
   ]
  },
  {
   "cell_type": "code",
   "execution_count": null,
   "metadata": {},
   "outputs": [],
   "source": [
    "distance_matrix.shape"
   ]
  },
  {
   "cell_type": "code",
   "execution_count": null,
   "metadata": {},
   "outputs": [],
   "source": [
    "from Bio.PDB import PDBParser\n",
    "import random\n",
    "\n",
    "parser = PDBParser()\n",
    "structure = parser.get_structure('Your_protein', 'test.pdb')\n",
    "\n",
    "chain_A = structure[0]['A']\n",
    "\n",
    "ppb = PPBuilder()"
   ]
  },
  {
   "cell_type": "code",
   "execution_count": null,
   "metadata": {},
   "outputs": [],
   "source": [
    "# Using the method you mentioned to get the list of phi and psi angles\n",
    "phi_psi_list = ppb.build_peptides(chain_A)[0].get_phi_psi_list()\n",
    "\n",
    "# Separate the phi and psi angles into two lists\n",
    "phi_angles = [angles[0] for angles in phi_psi_list if angles[0] is not None]\n",
    "psi_angles = [angles[1] for angles in phi_psi_list if angles[1] is not None]\n",
    "import math\n",
    "\n",
    "phi_angles_deg = [math.degrees(angle) for angle in phi_angles]\n",
    "psi_angles_deg = [math.degrees(angle) for angle in psi_angles]\n",
    "\n",
    "phi_stdevs = [random.uniform(0, 5) for _ in range(len(phi_angles_deg))]\n",
    "psi_stdevs = [random.uniform(0, 5) for _ in range(len(psi_angles_deg))]\n"
   ]
  },
  {
   "cell_type": "code",
   "execution_count": null,
   "metadata": {},
   "outputs": [],
   "source": [
    "len(phi_angles_deg) , len(psi_angles_deg) , max(phi_angles_deg)"
   ]
  },
  {
   "cell_type": "code",
   "execution_count": null,
   "metadata": {},
   "outputs": [],
   "source": [
    "from pyrosetta import *\n",
    "from pyrosetta.rosetta.core.scoring.constraints import AtomPairConstraint\n",
    "from pyrosetta.rosetta.core.scoring.func import HarmonicFunc\n",
    "from pyrosetta.rosetta.core.id import AtomID\n",
    "from pyrosetta.rosetta.core.kinematics import MoveMap\n",
    "from pyrosetta.rosetta.protocols.minimization_packing import MinMover\n",
    "\n",
    "\n",
    "from pyrosetta.rosetta.core.scoring.constraints import DihedralConstraint\n",
    "from pyrosetta.rosetta.core.scoring.func import CircularHarmonicFunc\n",
    "from pyrosetta.rosetta.core.id import AtomID, TorsionID\n",
    "\n",
    "# initialize PyRosetta\n",
    "init()\n",
    "\n",
    "# load your protein\n",
    "pose = pose_from_sequence(sequence)\n",
    "\n",
    "# Assume phi_angles and psi_angles are your precalculated lists of angles, which are of length N-1\n",
    "\n",
    "# Set the phi angles for residues 2 to N\n",
    "for i in range(2, pose.total_residue() + 1):\n",
    "    pose.set_phi(i, phi_angles_deg[i-2])\n",
    "\n",
    "# Set the psi angles for residues 1 to N-1\n",
    "for i in range(1, pose.total_residue()):\n",
    "    pose.set_psi(i, psi_angles_deg[i-1])\n",
    "\n",
    "for i in range(len(distance_matrix)):\n",
    "    for j in range(i+1, len(distance_matrix[i])):\n",
    "        # create an AtomPairConstraint for the alpha carbons of residues i+1 and j+1\n",
    "        atom1 = AtomID(2, i+1)  # 2 is the index for alpha carbon ('CA') in Rosetta atom numbering\n",
    "        atom2 = AtomID(2, j+1)\n",
    "        func = HarmonicFunc(distance_matrix[i][j], 0.1)  # Harmonic potential with standard deviation of 1.0\n",
    "        constraint = AtomPairConstraint(atom1, atom2, func)\n",
    "\n",
    "        # add the constraint to the pose\n",
    "        pose.add_constraint(constraint)\n",
    "        \n",
    "\n",
    "for i in range(2, pose.total_residue() + 1):  # Rosetta uses 1-indexing\n",
    "    # Create AtomID for the atoms forming the phi angle: C(i-1)-N(i)-CA(i)-C(i)\n",
    "    atom1 = AtomID(4, i-1)  # C atom of previous residue\n",
    "    atom2 = AtomID(1, i)  # N atom of current residue\n",
    "    atom3 = AtomID(2, i)  # CA atom of current residue\n",
    "    atom4 = AtomID(4, i)  # C atom of current residue\n",
    "    \n",
    "    # Create a CircularHarmonicFunc for the phi angle\n",
    "    func = CircularHarmonicFunc(phi_angles_deg[i-2], phi_stdevs[i-2])\n",
    "\n",
    "    # Create a DihedralConstraint for the phi angle\n",
    "    constraint = DihedralConstraint(atom1, atom2, atom3, atom4, func )\n",
    "\n",
    "    # Add the constraints to the pose\n",
    "    pose.add_constraint(constraint)"
   ]
  },
  {
   "cell_type": "code",
   "execution_count": null,
   "metadata": {},
   "outputs": [],
   "source": [
    "from pyrosetta.rosetta.protocols.relax import FastRelax\n",
    "from pyrosetta.rosetta.protocols.moves import MonteCarlo\n",
    "from pyrosetta.rosetta.core.scoring import ScoreType\n",
    "\n",
    "from pyrosetta.rosetta.core.kinematics import MoveMap\n",
    "\n",
    "\n",
    "# Create a MoveMap that will allow backbone torsion angles to change\n",
    "movemap = MoveMap()\n",
    "movemap.set_bb(True)  # True means all backbone torsion angles are allowed to change\n",
    "\n",
    "\n",
    "# Create a score function\n",
    "scorefxn = get_score_function()  # Use the default score function\n",
    "\n",
    "# Increase the weights of the constraint terms\n",
    "scorefxn.set_weight(ScoreType.atom_pair_constraint, 10.0)\n",
    "scorefxn.set_weight(ScoreType.dihedral_constraint, 10.0)\n",
    "\n",
    "\n",
    "\n",
    "# Create a Monte Carlo mover\n",
    "mc = MonteCarlo(pose, scorefxn, 1.0)  # The last parameter is the temperature\n",
    "\n",
    "# Create a FastRelax mover\n",
    "fast_relax = FastRelax(scorefxn, 1)  # The second parameter is the number of rounds\n",
    "fast_relax.set_movemap(movemap)\n",
    "# fast_relax.max_iter(100000000)  # Set maximum iterations\n",
    "fast_relax.set_scorefxn(scorefxn)\n",
    "\n"
   ]
  },
  {
   "cell_type": "code",
   "execution_count": 11,
   "metadata": {},
   "outputs": [],
   "source": [
    "from tqdm import tqdm\n",
    "\n",
    "for _ in tqdm(range(10)):  # The number of iterations\n",
    "    fast_relax.apply(pose)\n",
    "    mc.boltzmann(pose)\n"
   ]
  },
  {
   "cell_type": "code",
   "execution_count": null,
   "metadata": {},
   "outputs": [],
   "source": [
    "\n",
    "# # Create a MinMover for performing energy minimization\n",
    "# min_mover = MinMover()\n",
    "# min_mover.max_iter(100000000)  # Set maximum iterations to 1000\n",
    "\n",
    "# min_mover.movemap(movemap)\n",
    "# min_mover.score_function(get_score_function())  # Use the default score function\n",
    "\n",
    "# # Perform energy minimization\n",
    "\n",
    "# min_mover.apply(pose)\n"
   ]
  },
  {
   "cell_type": "code",
   "execution_count": null,
   "metadata": {},
   "outputs": [],
   "source": [
    "pose.dump_pdb(\"output.pdb\")\n",
    "# Load structure\n",
    "parser = PDBParser()\n",
    "structure = parser.get_structure('Your_protein', 'output.pdb')\n",
    "# Get chain A\n",
    "chain_A_output = structure[0]['A']\n"
   ]
  },
  {
   "cell_type": "code",
   "execution_count": null,
   "metadata": {},
   "outputs": [],
   "source": [
    "import nglview as nv\n",
    "from ipywidgets import VBox\n",
    "\n",
    "# Show chain_A_output structure\n",
    "view1 = nv.show_biopython(chain_A_output)\n",
    "view1\n",
    "# Show chain_A structure\n",
    "view2 = nv.show_biopython(chain_A)\n",
    "view2\n",
    "# Display side by side\n",
    "VBox([view1, view2])\n"
   ]
  },
  {
   "cell_type": "code",
   "execution_count": null,
   "metadata": {},
   "outputs": [],
   "source": []
  }
 ],
 "metadata": {
  "kernelspec": {
   "display_name": "base",
   "language": "python",
   "name": "python3"
  },
  "language_info": {
   "codemirror_mode": {
    "name": "ipython",
    "version": 3
   },
   "file_extension": ".py",
   "mimetype": "text/x-python",
   "name": "python",
   "nbconvert_exporter": "python",
   "pygments_lexer": "ipython3",
   "version": "3.10.12"
  },
  "orig_nbformat": 4
 },
 "nbformat": 4,
 "nbformat_minor": 2
}

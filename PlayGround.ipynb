{
 "cells": [
  {
   "cell_type": "code",
   "execution_count": null,
   "metadata": {},
   "outputs": [],
   "source": [
    "import pandas as pd\n",
    "import re\n",
    "\n",
    "# Read the text file\n",
    "with open('pdbtosp.txt', 'r') as file:\n",
    "    lines = file.readlines()\n",
    "\n",
    "# Define a regular expression pattern to extract columns\n",
    "pattern = re.compile(r'\\s+')\n",
    "\n",
    "# Initialize an empty list to store the rows\n",
    "data = []\n",
    "\n",
    "# Process each line and extract the columns\n",
    "for line in lines:\n",
    "    # Split the line using the regular expression pattern\n",
    "    columns = pattern.split(line.strip())\n",
    "    # Append the columns to the data list\n",
    "    data.append(columns)\n",
    "\n",
    "# Create a DataFrame from the extracted data\n",
    "df = pd.DataFrame(data)\n",
    "\n",
    "# Display the DataFrame\n",
    "print(df)\n"
   ]
  },
  {
   "cell_type": "code",
   "execution_count": null,
   "metadata": {},
   "outputs": [],
   "source": [
    "df.tail()"
   ]
  },
  {
   "cell_type": "code",
   "execution_count": null,
   "metadata": {},
   "outputs": [],
   "source": [
    "columns_to_extract = [0, 5]\n",
    "df_extracted = df.iloc[:, columns_to_extract]"
   ]
  },
  {
   "cell_type": "code",
   "execution_count": null,
   "metadata": {},
   "outputs": [],
   "source": [
    "df_extracted"
   ]
  },
  {
   "cell_type": "code",
   "execution_count": null,
   "metadata": {},
   "outputs": [],
   "source": [
    "column_names = ['PDB', 'SP']\n",
    "df_extracted.columns = column_names"
   ]
  },
  {
   "cell_type": "code",
   "execution_count": null,
   "metadata": {},
   "outputs": [],
   "source": [
    "df_extracted.head()"
   ]
  },
  {
   "cell_type": "code",
   "execution_count": null,
   "metadata": {},
   "outputs": [],
   "source": [
    "df_extracted['SP']"
   ]
  },
  {
   "cell_type": "code",
   "execution_count": null,
   "metadata": {},
   "outputs": [],
   "source": [
    "df_extracted.dropna(inplace=True)"
   ]
  },
  {
   "cell_type": "code",
   "execution_count": null,
   "metadata": {},
   "outputs": [],
   "source": [
    "df_extracted['SP'] = df_extracted['SP'].map(lambda x: x.replace('(', '').replace(')', ''))\n"
   ]
  },
  {
   "cell_type": "code",
   "execution_count": null,
   "metadata": {},
   "outputs": [],
   "source": [
    "df_extracted.head()"
   ]
  },
  {
   "cell_type": "code",
   "execution_count": null,
   "metadata": {},
   "outputs": [],
   "source": [
    "len(df_extracted)"
   ]
  },
  {
   "cell_type": "code",
   "execution_count": null,
   "metadata": {},
   "outputs": [],
   "source": [
    "df_extracted_dedup = df_extracted.drop_duplicates(subset='SP', keep='first')"
   ]
  },
  {
   "cell_type": "code",
   "execution_count": null,
   "metadata": {},
   "outputs": [],
   "source": [
    "df_extracted_dedup.head()"
   ]
  },
  {
   "cell_type": "code",
   "execution_count": null,
   "metadata": {},
   "outputs": [],
   "source": [
    "df_extracted_dedup.reset_index(inplace=True)"
   ]
  },
  {
   "cell_type": "code",
   "execution_count": null,
   "metadata": {},
   "outputs": [],
   "source": [
    "df_final = df_extracted_dedup[['PDB' , 'SP']]"
   ]
  },
  {
   "cell_type": "code",
   "execution_count": null,
   "metadata": {},
   "outputs": [],
   "source": [
    "df_final.head()"
   ]
  },
  {
   "cell_type": "code",
   "execution_count": null,
   "metadata": {},
   "outputs": [],
   "source": [
    "len(df_final)"
   ]
  },
  {
   "cell_type": "code",
   "execution_count": null,
   "metadata": {},
   "outputs": [],
   "source": [
    "df_final.to_csv('./pdb2sp.csv')"
   ]
  },
  {
   "cell_type": "code",
   "execution_count": null,
   "metadata": {},
   "outputs": [],
   "source": [
    "import requests\n",
    "\n",
    "# Specify the PDB ID\n",
    "pdb_id = \"1XYZ\"  # Replace with the desired PDB ID\n",
    "\n",
    "# Define the URL to download the PDB file\n",
    "url = f\"https://files.rcsb.org/download/{pdb_id}.cif\"\n",
    "\n",
    "# Send a GET request to the URL and save the file\n",
    "response = requests.get(url)\n",
    "if response.status_code == 200:\n",
    "    with open(f\"{pdb_id}.cif\", \"wb\") as file:\n",
    "        file.write(response.content)\n",
    "    print(\"PDB file downloaded successfully.\")\n",
    "else:\n",
    "    print(\"Failed to download PDB file.\")\n"
   ]
  },
  {
   "cell_type": "code",
   "execution_count": null,
   "metadata": {},
   "outputs": [],
   "source": [
    "from Bio import PDB\n",
    "\n",
    "# Specify the path to the CIF file\n",
    "cif_file = '1XYZ.cif'  # Replace with the path to your CIF file\n",
    "\n",
    "# Create a parser object\n",
    "parser = PDB.MMCIFParser()\n",
    "\n",
    "# Parse the CIF file\n",
    "structure = parser.get_structure('protein', cif_file)\n",
    "\n",
    "# Extract the protein sequence\n",
    "model = structure[0]  # Assuming there's only one model in the structure\n",
    "chain = model['A']  # Assuming the protein sequence is in chain A, change as needed\n",
    "\n",
    "sequence = ''\n",
    "for residue in chain:\n",
    "    if PDB.is_aa(residue):\n",
    "        sequence += PDB.Polypeptide.three_to_one(residue.get_resname())\n",
    "\n",
    "# Display the protein sequence\n",
    "print(sequence)\n"
   ]
  },
  {
   "cell_type": "code",
   "execution_count": null,
   "metadata": {},
   "outputs": [],
   "source": [
    "from Bio import PDB\n",
    "\n",
    "# Specify the path to the CIF file\n",
    "cif_file = '1XYZ.cif' # Replace with the path to your CIF file\n",
    "\n",
    "# Create a parser object\n",
    "parser = PDB.MMCIFParser()\n",
    "\n",
    "# Parse the CIF file\n",
    "structure = parser.get_structure('protein', cif_file)\n",
    "\n",
    "# Extract the protein sequence\n",
    "model = structure[0]  # Assuming there's only one model in the structure\n",
    "chain = model['A']  # Assuming the protein sequence is in chain A, change as needed\n",
    "\n",
    "# Create an empty distance matrix\n",
    "num_residues = len(chain)\n",
    "distance_matrix = [[0.0] * num_residues for _ in range(num_residues)]\n",
    "\n",
    "# Calculate the distance between residues\n",
    "for i, residue_i in enumerate(chain):\n",
    "    for j, residue_j in enumerate(chain):\n",
    "        if PDB.is_aa(residue_i) and PDB.is_aa(residue_j):\n",
    "            distance = residue_i['CA'] - residue_j['CA']\n",
    "            distance_matrix[i][j] = distance\n",
    "\n",
    "\n"
   ]
  },
  {
   "cell_type": "code",
   "execution_count": null,
   "metadata": {},
   "outputs": [],
   "source": [
    "import numpy as np"
   ]
  },
  {
   "cell_type": "code",
   "execution_count": null,
   "metadata": {},
   "outputs": [],
   "source": [
    "np.array(distance_matrix).shape"
   ]
  },
  {
   "cell_type": "code",
   "execution_count": null,
   "metadata": {},
   "outputs": [],
   "source": [
    "import requests\n",
    "import time\n",
    "\n",
    "def download_pdb_file(pdb_id, max_retries=3 , sleep_time_in_sec = 15):\n",
    "    # Define the URL to download the PDB file\n",
    "    url = f\"https://files.rcsb.org/download/{pdb_id}.cif\"\n",
    "\n",
    "    # Initialize a counter for retry attempts\n",
    "    retry_count = 0\n",
    "\n",
    "    # Retry loop\n",
    "    while retry_count < max_retries:\n",
    "        try:\n",
    "            # Send a GET request to the URL and save the file\n",
    "            response = requests.get(url)\n",
    "            if response.status_code == 200:\n",
    "                with open(f\"{pdb_id}.cif\", \"wb\") as file:\n",
    "                    file.write(response.content)\n",
    "                print(\"PDB file downloaded successfully.\")\n",
    "                return True\n",
    "            else:\n",
    "                print(f\"Failed to download PDB file. (Attempt {retry_count + 1})\")\n",
    "        except requests.exceptions.RequestException as e:\n",
    "            print(f\"Error occurred: {e}\")\n",
    "\n",
    "        retry_count += 1\n",
    "        time.sleep(sleep_time_in_sec)  # Wait for 1 second before retrying\n",
    "\n",
    "    print(f\"Exceeded maximum retry attempts. Failed to download PDB file.\")\n",
    "    return False\n",
    "\n",
    "# Example usage\n",
    "pdb_id = \"1XYZ\"\n",
    "download_pdb_file(pdb_id, max_retries=3)\n"
   ]
  },
  {
   "cell_type": "code",
   "execution_count": null,
   "metadata": {},
   "outputs": [],
   "source": [
    "from Bio.PDB import *\n",
    "import numpy as np\n",
    "\n",
    "def compute_angles_distance_and_amino_acids(pdb_file):\n",
    "    parser = MMCIFParser()\n",
    "    structure = parser.get_structure('protein', pdb_file)\n",
    "\n",
    "    model = structure[0]\n",
    "\n",
    "    phi_psi_angles = []\n",
    "    residues = []\n",
    "    amino_acids_count = 0\n",
    "\n",
    "    for chain in model:\n",
    "        polypeptides = PPBuilder().build_peptides(chain)\n",
    "        for poly_index, poly in enumerate(polypeptides):\n",
    "            phi_psi = poly.get_phi_psi_list()\n",
    "            for res_index, residue in enumerate(poly):\n",
    "                phi_psi_angles.append(phi_psi[res_index])\n",
    "                residues.append(residue)\n",
    "                amino_acids_count += 1  # Increment count for each amino acid residue\n",
    "\n",
    "    n_residues = len(residues)\n",
    "    distance_matrix = np.zeros((n_residues, n_residues))\n",
    "\n",
    "    for i in range(n_residues):\n",
    "        for j in range(n_residues):\n",
    "            distance_matrix[i][j] = residues[i]['CA'] - residues[j]['CA']\n",
    "\n",
    "    phi_psi_angles = np.array(phi_psi_angles)\n",
    "    return phi_psi_angles, distance_matrix, amino_acids_count\n",
    "\n",
    "phi_psi_angles, distance_matrix, num_amino_acids = compute_angles_distance_and_amino_acids('1XYZ.cif')\n",
    "\n",
    "print('Phi/Psi angles:', phi_psi_angles.shape)\n",
    "print('Distance matrix:', distance_matrix.shape)\n",
    "print('Number of amino acids:', num_amino_acids)\n"
   ]
  },
  {
   "cell_type": "code",
   "execution_count": null,
   "metadata": {},
   "outputs": [],
   "source": [
    "import nglview as nv\n",
    "from Bio.PDB import *\n",
    "\n",
    "def visualize_structure(pdb_file):\n",
    "    # Parse the PDB file\n",
    "    parser = MMCIFParser()\n",
    "    structure = parser.get_structure('protein', pdb_file)\n",
    "\n",
    "    # Visualize the structure\n",
    "    view = nv.show_biopython(structure)\n",
    "    view.clear_representations()\n",
    "    # Add new representation\n",
    "    view.add_cartoon('protein')\n",
    "    view.add_ball_and_stick('not protein')\n",
    "    return view\n",
    "\n",
    "# Test the function\n",
    "view = visualize_structure('1XYZ.cif')\n",
    "view\n"
   ]
  },
  {
   "cell_type": "code",
   "execution_count": null,
   "metadata": {},
   "outputs": [],
   "source": [
    "from Bio.PDB import *\n",
    "\n",
    "def get_chains(pdb_file):\n",
    "    # Parse the PDB file\n",
    "    parser = MMCIFParser()\n",
    "    structure = parser.get_structure('protein', pdb_file)\n",
    "\n",
    "    # Select the first model\n",
    "    model = structure[0]\n",
    "\n",
    "    # Get chains and residues\n",
    "    chains = {}\n",
    "    for chain in model:\n",
    "        chains[chain.get_id()] = [residue for residue in chain]\n",
    "        \n",
    "    return chains\n",
    "\n",
    "# Test the function\n",
    "chains = get_chains('1XYZ.cif')\n",
    "\n",
    "# Print information about each chain\n",
    "for chain_id, residues in chains.items():\n",
    "    print('Chain ID:', chain_id)\n",
    "    print('Number of residues:', len(residues))\n",
    "    print('First 5 residues:', residues[:5])\n"
   ]
  },
  {
   "cell_type": "code",
   "execution_count": null,
   "metadata": {},
   "outputs": [],
   "source": [
    "import nglview as nv\n",
    "from Bio.PDB import *\n",
    "\n",
    "def visualize_chains(pdb_file):\n",
    "    # Parse the PDB file\n",
    "    parser = MMCIFParser()\n",
    "    structure = parser.get_structure('protein', pdb_file)\n",
    "\n",
    "    # Select the first model\n",
    "    model = structure[0]\n",
    "\n",
    "    # Create a list to store chain views\n",
    "    chain_views = []\n",
    "\n",
    "    # Visualize each chain separately\n",
    "    for chain in model:\n",
    "        view = nv.show_biopython(chain)\n",
    "        view.clear_representations()\n",
    "        view.add_cartoon('protein')\n",
    "        view.add_ball_and_stick('not protein')\n",
    "        chain_views.append(view)\n",
    "    \n",
    "    return chain_views\n",
    "\n",
    "# Test the function\n",
    "chain_views = visualize_chains('1XYZ.cif')\n",
    "\n",
    "# Display the view for each chain\n",
    "for view in chain_views:\n",
    "    display(view)\n"
   ]
  },
  {
   "cell_type": "code",
   "execution_count": null,
   "metadata": {},
   "outputs": [],
   "source": [
    "from Bio.PDB import *\n",
    "import numpy as np\n",
    "\n",
    "def calculate_distance_matrix_for_each_chain(pdb_file):\n",
    "    # Parse the PDB file\n",
    "    parser = MMCIFParser()\n",
    "    structure = parser.get_structure('protein', pdb_file)\n",
    "\n",
    "    # Select the first model\n",
    "    model = structure[0]\n",
    "\n",
    "    # Create a dictionary to store the distance matrix for each chain\n",
    "    distance_matrices = {}\n",
    "\n",
    "    for chain in model:\n",
    "        # Initialize variables\n",
    "        residues = []\n",
    "\n",
    "        polypeptides = PPBuilder().build_peptides(chain)\n",
    "        for poly_index, poly in enumerate(polypeptides):\n",
    "            for res_index, residue in enumerate(poly):\n",
    "                residues.append(residue)\n",
    "\n",
    "        # Compute the distance matrix for the chain\n",
    "        n_residues = len(residues)\n",
    "        distance_matrix = np.zeros((n_residues, n_residues))\n",
    "\n",
    "        for i in range(n_residues):\n",
    "            for j in range(n_residues):\n",
    "                distance_matrix[i][j] = residues[i]['CA'] - residues[j]['CA']\n",
    "\n",
    "        # Store the distance matrix in the dictionary\n",
    "        distance_matrices[chain.get_id()] = distance_matrix\n",
    "\n",
    "    return distance_matrices\n",
    "\n",
    "# Test the function\n",
    "distance_matrices = calculate_distance_matrix_for_each_chain('1XYZ.cif')\n",
    "\n",
    "# Print the distance matrix for each chain\n",
    "for chain_id, distance_matrix in distance_matrices.items():\n",
    "    print('Chain ID:', chain_id)\n",
    "    print('Distance matrix:', distance_matrix)\n"
   ]
  },
  {
   "cell_type": "code",
   "execution_count": null,
   "metadata": {},
   "outputs": [],
   "source": [
    "distance_matrix"
   ]
  },
  {
   "cell_type": "code",
   "execution_count": null,
   "metadata": {},
   "outputs": [],
   "source": [
    "from Bio.PDB import *\n",
    "import numpy as np\n",
    "\n",
    "def calculate_angles_and_distance_matrix_for_each_chain(pdb_file):\n",
    "    # Parse the PDB file\n",
    "    parser = MMCIFParser()\n",
    "    structure = parser.get_structure('protein', pdb_file)\n",
    "\n",
    "    # Select the first model\n",
    "    model = structure[0]\n",
    "\n",
    "    # Create dictionaries to store the distance matrix and phi/psi angles for each chain\n",
    "    distance_matrices = {}\n",
    "    phi_psi_angles_dict = {}\n",
    "\n",
    "    for chain in model:\n",
    "        # Initialize variables\n",
    "        residues = []\n",
    "        phi_psi_angles = []\n",
    "\n",
    "        polypeptides = PPBuilder().build_peptides(chain)\n",
    "        for poly_index, poly in enumerate(polypeptides):\n",
    "            phi_psi = poly.get_phi_psi_list()\n",
    "            for res_index, residue in enumerate(poly):\n",
    "                residues.append(residue)\n",
    "                phi_psi_angles.append(phi_psi[res_index])\n",
    "\n",
    "        # Compute the distance matrix for the chain\n",
    "        n_residues = len(residues)\n",
    "        distance_matrix = np.zeros((n_residues, n_residues))\n",
    "\n",
    "        for i in range(n_residues):\n",
    "            for j in range(n_residues):\n",
    "                distance_matrix[i][j] = residues[i]['CA'] - residues[j]['CA']\n",
    "\n",
    "        # Store the distance matrix and phi/psi angles in the dictionaries\n",
    "        distance_matrices[chain.get_id()] = distance_matrix\n",
    "        phi_psi_angles_dict[chain.get_id()] = phi_psi_angles\n",
    "\n",
    "    return distance_matrices, phi_psi_angles_dict\n",
    "\n",
    "# Test the function\n",
    "distance_matrices, phi_psi_angles_dict = calculate_angles_and_distance_matrix_for_each_chain('1XYZ.cif')\n",
    "\n",
    "# Print the distance matrix and phi/psi angles for each chain\n",
    "for chain_id in distance_matrices.keys():\n",
    "    print('Chain ID:', chain_id)\n",
    "    print('Distance matrix:', distance_matrices[chain_id])\n",
    "    print('Phi/Psi angles:', phi_psi_angles_dict[chain_id])\n"
   ]
  },
  {
   "cell_type": "code",
   "execution_count": null,
   "metadata": {},
   "outputs": [],
   "source": [
    "phi_psi_angles_dict"
   ]
  },
  {
   "cell_type": "code",
   "execution_count": null,
   "metadata": {},
   "outputs": [],
   "source": []
  }
 ],
 "metadata": {
  "kernelspec": {
   "display_name": "base",
   "language": "python",
   "name": "python3"
  },
  "language_info": {
   "codemirror_mode": {
    "name": "ipython",
    "version": 3
   },
   "file_extension": ".py",
   "mimetype": "text/x-python",
   "name": "python",
   "nbconvert_exporter": "python",
   "pygments_lexer": "ipython3",
   "version": "3.10.9"
  },
  "orig_nbformat": 4
 },
 "nbformat": 4,
 "nbformat_minor": 2
}

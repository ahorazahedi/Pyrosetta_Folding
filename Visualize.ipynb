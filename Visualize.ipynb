{
 "cells": [
  {
   "cell_type": "code",
   "execution_count": null,
   "metadata": {},
   "outputs": [],
   "source": [
    "# from Bio.PDB import PDBParser, PPBuilder\n",
    "# import nglview as nv\n",
    "# # Load structure\n",
    "# parser = PDBParser()\n",
    "# structure = parser.get_structure('orginal Side Chain A', './base_line_chain_A.pdb')\n",
    "\n",
    "# # Get chain A\n",
    "# chain_A = structure[0]['A']\n",
    "# # Show A Chain structure\n",
    "# view = nv.show_biopython(structure)\n",
    "# view"
   ]
  },
  {
   "cell_type": "code",
   "execution_count": null,
   "metadata": {},
   "outputs": [],
   "source": [
    "# # Load structure\n",
    "# parser = PDBParser()\n",
    "# structure = parser.get_structure('orginal Side Chain A', './output_chain_a.pdb')\n",
    "\n",
    "# # Get chain A\n",
    "# chain_A = structure[0]['A']\n",
    "# # Show A Chain structure\n",
    "# view = nv.show_biopython(structure)\n",
    "# view"
   ]
  },
  {
   "cell_type": "code",
   "execution_count": null,
   "metadata": {},
   "outputs": [],
   "source": [
    "# Import necessary libraries\n",
    "from Bio.PDB import PDBParser\n",
    "from ipywidgets import interact, widgets\n",
    "import nglview as nv\n",
    "import glob\n",
    "import os\n",
    "\n",
    "# Get a list of all pdb files in a directory\n",
    "pdb_files = glob.glob('./renders/*.pdb')\n",
    "\n",
    "# Initialize a parser\n",
    "parser = PDBParser()\n",
    "\n",
    "# Parse all structures\n",
    "structures = [parser.get_structure('structure'+str(i), pdb_file) for i, pdb_file in enumerate(pdb_files)]\n",
    "\n",
    "# Function to display structures\n",
    "def display_structure(i):\n",
    "    view = nv.show_biopython(structures[i])\n",
    "    return view\n",
    "\n",
    "# Use interact function to create a slider for structure selection\n",
    "interact(display_structure, i=widgets.IntSlider(min=0, max=len(structures)-1, step=1, value=0))\n"
   ]
  }
 ],
 "metadata": {
  "kernelspec": {
   "display_name": "base",
   "language": "python",
   "name": "python3"
  },
  "language_info": {
   "codemirror_mode": {
    "name": "ipython",
    "version": 3
   },
   "file_extension": ".py",
   "mimetype": "text/x-python",
   "name": "python",
   "nbconvert_exporter": "python",
   "pygments_lexer": "ipython3",
   "version": "3.10.12"
  },
  "orig_nbformat": 4
 },
 "nbformat": 4,
 "nbformat_minor": 2
}
